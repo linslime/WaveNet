{
 "cells": [
  {
   "cell_type": "code",
   "metadata": {
    "collapsed": false,
    "ExecuteTime": {
     "end_time": "2024-06-15T11:29:17.773216Z",
     "start_time": "2024-06-15T11:29:17.767564Z"
    }
   },
   "source": [
    "import torch\n",
    "from torch.autograd import Variable\n",
    "import torch.nn.functional as F\n",
    "import torchaudio\n",
    "import librosa\n",
    "import torchaudio.transforms as trans\n",
    "from model import WaveNet"
   ],
   "outputs": [],
   "execution_count": 6
  },
  {
   "cell_type": "code",
   "metadata": {
    "collapsed": true,
    "ExecuteTime": {
     "end_time": "2024-06-15T11:29:17.784811Z",
     "start_time": "2024-06-15T11:29:17.780453Z"
    }
   },
   "source": [
    "%matplotlib inline\n",
    "import matplotlib.pyplot as plt\n",
    "import IPython.display\n",
    "import numpy as np"
   ],
   "outputs": [],
   "execution_count": 7
  },
  {
   "cell_type": "code",
   "metadata": {
    "collapsed": false,
    "ExecuteTime": {
     "end_time": "2024-06-15T11:29:17.799235Z",
     "start_time": "2024-06-15T11:29:17.786718Z"
    }
   },
   "source": [
    "audio,_ = librosa.load('./VCTK/p225/p225_001.wav',sr=16000,mono=True)\n",
    "audio,_ = librosa.effects.trim(audio, top_db=10, frame_length=2048)\n",
    "wav_tensor = torch.from_numpy(audio).unsqueeze(1)\n",
    "wav_tensor = trans.MuLawEncoding()(wav_tensor).transpose(0,1)"
   ],
   "outputs": [],
   "execution_count": 8
  },
  {
   "cell_type": "code",
   "metadata": {
    "collapsed": false,
    "ExecuteTime": {
     "end_time": "2024-06-15T11:29:18.063089Z",
     "start_time": "2024-06-15T11:29:17.804948Z"
    }
   },
   "source": [
    "plt.plot(wav_tensor.numpy()[0])"
   ],
   "outputs": [
    {
     "data": {
      "text/plain": [
       "[<matplotlib.lines.Line2D at 0x7ba057500c70>]"
      ]
     },
     "execution_count": 9,
     "metadata": {},
     "output_type": "execute_result"
    },
    {
     "data": {
      "text/plain": [
       "<Figure size 640x480 with 1 Axes>"
      ],
      "image/png": "[encoded data removed]"
     },
     "metadata": {},
     "output_type": "display_data"
    }
   ],
   "execution_count": 9
  },
  {
   "cell_type": "code",
   "metadata": {
    "collapsed": true,
    "ExecuteTime": {
     "end_time": "2024-06-15T11:33:21.479768Z",
     "start_time": "2024-06-15T11:33:21.384632Z"
    }
   },
   "source": [
    "model = WaveNet()\n",
    "model.load_state_dict(torch.load('model.pth',map_location=torch.device('cpu')))"
   ],
   "outputs": [
    {
     "data": {
      "text/plain": [
       "<All keys matched successfully>"
      ]
     },
     "execution_count": 15,
     "metadata": {},
     "output_type": "execute_result"
    }
   ],
   "execution_count": 15
  },
  {
   "cell_type": "code",
   "metadata": {
    "collapsed": false,
    "ExecuteTime": {
     "end_time": "2024-06-15T11:31:35.899131Z",
     "start_time": "2024-06-15T11:31:35.650194Z"
    }
   },
   "source": [
    "recp_field=5116\n",
    "sample_len = 16000*20\n",
    "\n",
    "sample = Variable(wav_tensor[:,:recp_field])\n",
    "for i in range(sample_len):\n",
    "    logits = model(sample[:,-5116:])\n",
    "    m = torch.distributions.Categorical(F.softmax(logits,dim=1).view(-1))\n",
    "    new = m.sample()\n",
    "    sample = torch.cat((sample,new),dim=1)\n",
    "    \n",
    "    if i % 16000 == 0:\n",
    "        print (i)"
   ],
   "outputs": [
    {
     "ename": "RuntimeError",
     "evalue": "zero-dimensional tensor (at position 1) cannot be concatenated",
     "output_type": "error",
     "traceback": [
      "\u001B[0;31m---------------------------------------------------------------------------\u001B[0m",
      "\u001B[0;31mRuntimeError\u001B[0m                              Traceback (most recent call last)",
      "Cell \u001B[0;32mIn[14], line 9\u001B[0m\n\u001B[1;32m      7\u001B[0m m \u001B[38;5;241m=\u001B[39m torch\u001B[38;5;241m.\u001B[39mdistributions\u001B[38;5;241m.\u001B[39mCategorical(F\u001B[38;5;241m.\u001B[39msoftmax(logits,dim\u001B[38;5;241m=\u001B[39m\u001B[38;5;241m1\u001B[39m)\u001B[38;5;241m.\u001B[39mview(\u001B[38;5;241m-\u001B[39m\u001B[38;5;241m1\u001B[39m))\n\u001B[1;32m      8\u001B[0m new \u001B[38;5;241m=\u001B[39m m\u001B[38;5;241m.\u001B[39msample()\n\u001B[0;32m----> 9\u001B[0m sample \u001B[38;5;241m=\u001B[39m \u001B[43mtorch\u001B[49m\u001B[38;5;241;43m.\u001B[39;49m\u001B[43mcat\u001B[49m\u001B[43m(\u001B[49m\u001B[43m(\u001B[49m\u001B[43msample\u001B[49m\u001B[43m,\u001B[49m\u001B[43mnew\u001B[49m\u001B[43m)\u001B[49m\u001B[43m,\u001B[49m\u001B[43mdim\u001B[49m\u001B[38;5;241;43m=\u001B[39;49m\u001B[38;5;241;43m1\u001B[39;49m\u001B[43m)\u001B[49m\n\u001B[1;32m     11\u001B[0m \u001B[38;5;28;01mif\u001B[39;00m i \u001B[38;5;241m%\u001B[39m \u001B[38;5;241m16000\u001B[39m \u001B[38;5;241m==\u001B[39m \u001B[38;5;241m0\u001B[39m:\n\u001B[1;32m     12\u001B[0m     \u001B[38;5;28mprint\u001B[39m (i)\n",
      "\u001B[0;31mRuntimeError\u001B[0m: zero-dimensional tensor (at position 1) cannot be concatenated"
     ]
    }
   ],
   "execution_count": 14
  },
  {
   "cell_type": "code",
   "metadata": {
    "collapsed": false
   },
   "source": [
    "plt.plot(sample.cpu().data.numpy()[0])"
   ],
   "outputs": [],
   "execution_count": null
  },
  {
   "cell_type": "code",
   "metadata": {
    "collapsed": false
   },
   "source": [
    "sample = trans.MuLawExpanding()(sample.cpu().data)\n",
    "librosa.output.write_wav(\"sample.wav\",sample.numpy()[0],sr=16000)"
   ],
   "outputs": [],
   "execution_count": null
  },
  {
   "cell_type": "code",
   "metadata": {
    "collapsed": true
   },
   "source": [],
   "outputs": [],
   "execution_count": null
  }
 ],
 "metadata": {
  "kernelspec": {
   "display_name": "Python 3 (ipykernel)",
   "language": "python",
   "name": "python3"
  },
  "language_info": {
   "codemirror_mode": {
    "name": "ipython",
    "version": 2
   },
   "file_extension": ".py",
   "mimetype": "text/x-python",
   "name": "python",
   "nbconvert_exporter": "python",
   "pygments_lexer": "ipython2",
   "version": "2.7.12"
  }
 },
 "nbformat": 4,
 "nbformat_minor": 2
}
